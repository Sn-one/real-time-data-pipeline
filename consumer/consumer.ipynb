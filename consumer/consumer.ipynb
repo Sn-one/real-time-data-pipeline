{
 "cells": [
  {
   "cell_type": "code",
   "execution_count": 1,
   "metadata": {},
   "outputs": [
    {
     "name": "stdout",
     "output_type": "stream",
     "text": [
      "Requirement already satisfied: confluent-kafka in /workspace/.pyenv_mirror/user/current/lib/python3.11/site-packages (2.2.0)\n"
     ]
    }
   ],
   "source": [
    "!pip install confluent-kafka\n"
   ]
  },
  {
   "cell_type": "code",
   "execution_count": null,
   "metadata": {},
   "outputs": [],
   "source": [
    "from confluent_kafka import Consumer, KafkaError\n",
    "\n",
    "# Kafka consumer configuration\n",
    "consumer_config = {\n",
    "    'bootstrap.servers': 'localhost:9091',  # Replace with your Kafka broker address\n",
    "    'group.id': 'test-group',\n",
    "    'auto.offset.reset': 'earliest'  # Start consuming from the beginning of the topic\n",
    "}\n",
    "\n",
    "# Kafka topic to consume from\n",
    "topic = 'traffic_data'  # Use the same topic name as in producer.py\n",
    "\n",
    "# Create a Kafka consumer instance\n",
    "consumer = Consumer(consumer_config)\n",
    "\n",
    "# Subscribe to the topic\n",
    "consumer.subscribe([topic])\n",
    "\n",
    "try:\n",
    "    while True:\n",
    "        msg = consumer.poll(1.0)  # Poll for messages with a timeout of 1 second\n",
    "        if msg is None:\n",
    "            continue\n",
    "        if msg.error():\n",
    "            if msg.error().code() == KafkaError._PARTITION_EOF:\n",
    "                print('Reached end of topic partition')\n",
    "            else:\n",
    "                print('Error:', msg.error())\n",
    "        else:\n",
    "            # Print the received message key and value\n",
    "            print(f'Received message: key={msg.key()}, value={msg.value()}')\n",
    "\n",
    "except KeyboardInterrupt:\n",
    "    pass\n",
    "finally:\n",
    "    consumer.close()\n"
   ]
  }
 ],
 "metadata": {
  "kernelspec": {
   "display_name": "Python 3",
   "language": "python",
   "name": "python3"
  },
  "language_info": {
   "codemirror_mode": {
    "name": "ipython",
    "version": 3
   },
   "file_extension": ".py",
   "mimetype": "text/x-python",
   "name": "python",
   "nbconvert_exporter": "python",
   "pygments_lexer": "ipython3",
   "version": "3.11.4"
  },
  "orig_nbformat": 4
 },
 "nbformat": 4,
 "nbformat_minor": 2
}
